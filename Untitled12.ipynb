{
  "nbformat": 4,
  "nbformat_minor": 0,
  "metadata": {
    "colab": {
      "provenance": [],
      "authorship_tag": "ABX9TyOCsl2ngMyCkgFbRY5UjnGm",
      "include_colab_link": true
    },
    "kernelspec": {
      "name": "python3",
      "display_name": "Python 3"
    },
    "language_info": {
      "name": "python"
    }
  },
  "cells": [
    {
      "cell_type": "markdown",
      "metadata": {
        "id": "view-in-github",
        "colab_type": "text"
      },
      "source": [
        "<a href=\"https://colab.research.google.com/github/Yparth1805/Python2/blob/main/Untitled12.ipynb\" target=\"_parent\"><img src=\"https://colab.research.google.com/assets/colab-badge.svg\" alt=\"Open In Colab\"/></a>"
      ]
    },
    {
      "cell_type": "code",
      "execution_count": null,
      "metadata": {
        "id": "RAWYINsI3hOn"
      },
      "outputs": [],
      "source": [
        "class Vehicle:\n",
        "    def __init__(self, max_speed, mileage):\n",
        "        self.max_speed = max_speed\n",
        "        self.mileage = mileage\n",
        "        \n",
        "        \n",
        "car = Vehicle(186,23 )\n",
        "print(car.max_speed, car.mileage)"
      ]
    },
    {
      "cell_type": "code",
      "source": [
        "class Vehicle:\n",
        "    pass"
      ],
      "metadata": {
        "id": "I3xe7hIS3op7"
      },
      "execution_count": null,
      "outputs": []
    },
    {
      "cell_type": "code",
      "source": [
        "class Vehicle:\n",
        "\n",
        "    def __init__(self, name, max_speed, mileage):                \n",
        "        self.name = name\n",
        "        self.max_speed = max_speed\n",
        "        self.mileage = mileage"
      ],
      "metadata": {
        "id": "ICqJmsLO3rAy"
      },
      "execution_count": null,
      "outputs": []
    },
    {
      "cell_type": "code",
      "source": [
        "class Vehicle:\n",
        "    def __init__(self, name, mileage, capacity):\n",
        "        self.name = name\n",
        "        self.mileage = mileage\n",
        "        self.capacity = capacity\n",
        "\n",
        "    def fare(self):\n",
        "        return self.capacity * 100\n",
        "\n",
        "class Bus(Vehicle):\n",
        "    pass\n",
        "\n",
        "School_bus = Bus(\"School Volvo\", 12, 95)\n",
        "print(\"Total Bus fare is:\", School_bus.fare())"
      ],
      "metadata": {
        "id": "EtyHqjZs3t1u"
      },
      "execution_count": null,
      "outputs": []
    },
    {
      "cell_type": "code",
      "source": [
        "class Vehicle:\n",
        "    def __init__(self, name, mileage, capacity):\n",
        "        self.name = name\n",
        "        self.mileage = mileage\n",
        "        self.capacity = capacity\n",
        "\n",
        "    def fare(self):\n",
        "        return self.capacity * 100\n",
        "\n",
        "class Bus(Vehicle):\n",
        "    pass\n",
        "\n",
        "School_bus = Bus(\"School Volvo\", 13, 96)\n",
        "print(\"Total Bus fare is:\", School_bus.fare()) \n",
        "\n",
        "class Vehicle:\n",
        "    def __init__(self, name, mileage, capacity):\n",
        "        self.name = name\n",
        "        self.mileage = mileage\n",
        "        self.capacity = capacity\n",
        "\n",
        "    def fare(self):\n",
        "        return self.capacity * 100\n",
        "\n",
        "class Bus(Vehicle):\n",
        "    pass\n",
        "\n",
        "School_bus = Bus(\"School Volvo\", 13, 96)\n",
        "print(\"Total Bus fare is:\", School_bus.fare())"
      ],
      "metadata": {
        "id": "zFqyPFfx3v8M"
      },
      "execution_count": null,
      "outputs": []
    },
    {
      "cell_type": "code",
      "source": [],
      "metadata": {
        "id": "hTCZNpkj30xE"
      },
      "execution_count": null,
      "outputs": []
    }
  ]
}