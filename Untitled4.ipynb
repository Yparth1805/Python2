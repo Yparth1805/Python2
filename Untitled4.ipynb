{
  "nbformat": 4,
  "nbformat_minor": 0,
  "metadata": {
    "colab": {
      "name": "Untitled4.ipynb",
      "provenance": [],
      "collapsed_sections": [],
      "authorship_tag": "ABX9TyOLmaOW95ZGuprwWUg5myfa",
      "include_colab_link": true
    },
    "kernelspec": {
      "name": "python3",
      "display_name": "Python 3"
    },
    "language_info": {
      "name": "python"
    }
  },
  "cells": [
    {
      "cell_type": "markdown",
      "metadata": {
        "id": "view-in-github",
        "colab_type": "text"
      },
      "source": [
        "<a href=\"https://colab.research.google.com/github/Yparth1805/Python2/blob/main/Untitled4.ipynb\" target=\"_parent\"><img src=\"https://colab.research.google.com/assets/colab-badge.svg\" alt=\"Open In Colab\"/></a>"
      ]
    },
    {
      "cell_type": "markdown",
      "source": [
        "## WEEK **1** \n"
      ],
      "metadata": {
        "id": "jNLMvh0uQm3G"
      }
    },
    {
      "cell_type": "code",
      "source": [
        "from google.colab import drive\n",
        "drive.mount('/content/drive')"
      ],
      "metadata": {
        "id": "GgsYHF_ZnalI"
      },
      "execution_count": null,
      "outputs": []
    },
    {
      "cell_type": "code",
      "source": [
        "#SECTION A\n",
        "#1.Write a python program to print Hello World\n",
        "print(\"Hello World\")"
      ],
      "metadata": {
        "colab": {
          "base_uri": "https://localhost:8080/"
        },
        "id": "x-vMWcYHQr-F",
        "outputId": "e51fb550-a0c6-4d98-92aa-c16fcca9c732"
      },
      "execution_count": null,
      "outputs": [
        {
          "output_type": "stream",
          "name": "stdout",
          "text": [
            "Hello World\n"
          ]
        }
      ]
    },
    {
      "cell_type": "code",
      "source": [
        "#2.Write a python program to do arithmetical operations addition and division\n",
        "A=10\n",
        "B=2\n",
        "print(A+B)\n",
        "print(A/B)\n"
      ],
      "metadata": {
        "colab": {
          "base_uri": "https://localhost:8080/"
        },
        "id": "Rrymgp5tRgAN",
        "outputId": "e085d7b8-3331-4295-9cf0-45a748c6fe01"
      },
      "execution_count": null,
      "outputs": [
        {
          "output_type": "stream",
          "name": "stdout",
          "text": [
            "12\n",
            "5.0\n"
          ]
        }
      ]
    },
    {
      "cell_type": "code",
      "source": [
        "#3.Write a python program to find the area of a triangle\n",
        "base=int(input(\"base=\"))\n",
        "height=int(input(\"height=\"))\n",
        "area=0.5*base*height\n",
        "print(\"area is\", area)"
      ],
      "metadata": {
        "colab": {
          "base_uri": "https://localhost:8080/"
        },
        "id": "tCNehGrLSJpN",
        "outputId": "8d980032-3e50-4238-bbe1-b8fac375b777"
      },
      "execution_count": null,
      "outputs": [
        {
          "output_type": "stream",
          "name": "stdout",
          "text": [
            "base=10\n",
            "height=5\n",
            "area is 25.0\n"
          ]
        }
      ]
    },
    {
      "cell_type": "code",
      "source": [
        "#4.Write a python program to swap to variables\n",
        "a=\"parth\"\n",
        "b=\"yadav\"\n",
        "print(\"a before swapping=\",a,\"b before swapping=\",b)\n",
        "c=a\n",
        "a=b\n",
        "b=c\n",
        "print(\"a after swapping=\",a,\"b before swapping=\",b)"
      ],
      "metadata": {
        "colab": {
          "base_uri": "https://localhost:8080/"
        },
        "id": "YsAwwUK_TFl2",
        "outputId": "77355884-9f29-494a-c071-9d408a077a11"
      },
      "execution_count": null,
      "outputs": [
        {
          "output_type": "stream",
          "name": "stdout",
          "text": [
            "a before swapping= parth b before swapping= yadav\n",
            "a after swapping= yadav b before swapping= parth\n"
          ]
        }
      ]
    },
    {
      "cell_type": "code",
      "source": [
        "#5.Write a python program to generate a random number\n",
        "import random\n",
        "a=random\n",
        "random in range(1,100)\n",
        "print(a)"
      ],
      "metadata": {
        "colab": {
          "base_uri": "https://localhost:8080/"
        },
        "id": "MwYwrvjwUHEn",
        "outputId": "6443bcf6-3dbe-4e1d-82dc-3228249540d7"
      },
      "execution_count": null,
      "outputs": [
        {
          "output_type": "stream",
          "name": "stdout",
          "text": [
            "<module 'random' from '/usr/lib/python3.7/random.py'>\n"
          ]
        }
      ]
    },
    {
      "cell_type": "code",
      "source": [
        "#Section B\n",
        "#1.Write a python program to convert kilometers to meters\n",
        "km=int(input(\"Enter a km value=\" ))\n",
        "meters=km*1000\n",
        "print(km,\"km in meters is\",meters)"
      ],
      "metadata": {
        "colab": {
          "base_uri": "https://localhost:8080/"
        },
        "id": "iOKolPvZUswA",
        "outputId": "663a8b9e-bc65-4cb8-a92f-937dff929b4c"
      },
      "execution_count": null,
      "outputs": [
        {
          "output_type": "stream",
          "name": "stdout",
          "text": [
            "Enter a km value=10\n",
            "10 km in meters is 10000\n"
          ]
        }
      ]
    },
    {
      "cell_type": "code",
      "source": [
        "#2.Write a program to convert celcius to farhenite\n",
        "celsius=int(input(\"Enter a celsius value=\" ))\n",
        "farhenite=((celsius*1.8)+32)\n",
        "print(celsius,\"celsius in farheniteis\",farhenite)"
      ],
      "metadata": {
        "colab": {
          "base_uri": "https://localhost:8080/"
        },
        "id": "Ax8Sq8UpViRW",
        "outputId": "7daf724f-42fb-48ec-e83b-cd88371ce4ee"
      },
      "execution_count": null,
      "outputs": [
        {
          "output_type": "stream",
          "name": "stdout",
          "text": [
            "Enter a celsius value=15\n",
            "15 celsius in farheniteis 59.0\n"
          ]
        }
      ]
    },
    {
      "cell_type": "code",
      "source": [
        "#3.Write a program to display calendar\n",
        "import calendar\n",
        "\n",
        "yy=2022\n",
        "mm=12\n",
        "\n",
        "print(calendar.month(yy,mm))"
      ],
      "metadata": {
        "colab": {
          "base_uri": "https://localhost:8080/"
        },
        "id": "5mrPel7vWYAf",
        "outputId": "9f0d2c0e-2097-41c1-f0e3-16a76b34fd1f"
      },
      "execution_count": null,
      "outputs": [
        {
          "output_type": "stream",
          "name": "stdout",
          "text": [
            "   December 2022\n",
            "Mo Tu We Th Fr Sa Su\n",
            "          1  2  3  4\n",
            " 5  6  7  8  9 10 11\n",
            "12 13 14 15 16 17 18\n",
            "19 20 21 22 23 24 25\n",
            "26 27 28 29 30 31\n",
            "\n"
          ]
        }
      ]
    },
    {
      "cell_type": "code",
      "source": [
        "#4.Write a python program to solve quadratic equation\n",
        "import cmath\n",
        "\n",
        "A=int(input(\"Enter a number= \"))\n",
        "B=int(input(\"Enter a number= \"))\n",
        "C=int(input(\"Enter a number= \"))\n",
        "\n",
        "Diss= ((B^2)-4*A*C);\n",
        "print(Diss)\n",
        "\n",
        "Value1=((-B)+ cmath.sqrt(Diss))/2*A\n",
        "Value2=((-B)- cmath.sqrt(Diss))/2*A\n",
        "print(Value1)\n",
        "print(Value2)\n"
      ],
      "metadata": {
        "id": "Z9TX6ZVsZpXw",
        "colab": {
          "base_uri": "https://localhost:8080/"
        },
        "outputId": "9ad60cfb-5e71-4bac-9d06-3ae472f3d350"
      },
      "execution_count": null,
      "outputs": [
        {
          "output_type": "stream",
          "name": "stdout",
          "text": [
            "Enter a number= 3\n",
            "Enter a number= 5\n",
            "Enter a number= 2\n",
            "-17\n",
            "(-7.5+6.18465843842649j)\n",
            "(-7.5-6.18465843842649j)\n"
          ]
        }
      ]
    },
    {
      "cell_type": "code",
      "source": [
        "#5.Write a python program to swap two variables without temp variable\n"
      ],
      "metadata": {
        "id": "TH4xz-b3qjaH"
      },
      "execution_count": null,
      "outputs": []
    },
    {
      "cell_type": "code",
      "source": [
        "#SECTION C\n",
        "#1.Write a python program to check if a number is positive, negative or zero\n",
        "num=float(input(\"Enter a number= \"))\n",
        "if num > 0:\n",
        "  print(\"Entered number is positive\")\n",
        "elif num == 0:\n",
        "  print(\"Entered number is zero\")\n",
        "else:\n",
        "  print(\"Entered number is negative\")\n"
      ],
      "metadata": {
        "colab": {
          "base_uri": "https://localhost:8080/"
        },
        "id": "3sh1Y0cUyXGr",
        "outputId": "e28fa4b0-cf86-4990-9cb8-4866fd564ed7"
      },
      "execution_count": null,
      "outputs": [
        {
          "output_type": "stream",
          "name": "stdout",
          "text": [
            "Enter a number= 0\n",
            "Entered number is zero\n"
          ]
        }
      ]
    },
    {
      "cell_type": "code",
      "source": [
        "#2.Write a python program to check if number is odd or even\n",
        "num=int(input(\"Enter a number= \"))\n",
        "if num%2 == 0:\n",
        "  print(\"Entered number is even\")\n",
        "else:\n",
        "  print(\"Entered number is odd\")"
      ],
      "metadata": {
        "colab": {
          "base_uri": "https://localhost:8080/"
        },
        "id": "pKV55Q3R4Jt0",
        "outputId": "7e0adf2a-b5f0-4a5d-95a2-0a44ad7114b8"
      },
      "execution_count": null,
      "outputs": [
        {
          "output_type": "stream",
          "name": "stdout",
          "text": [
            "Enter a number= 12\n",
            "Entered number is even\n"
          ]
        }
      ]
    },
    {
      "cell_type": "code",
      "source": [
        "#3.Write a python program to check a leap year\n",
        "year=int(input(\"Enter a year= \"))\n",
        "if year%4 == 0:\n",
        "  print(\"Entered year is a leap year\")\n",
        "else:\n",
        "  print(\"Entered year is not a leap year\")\n"
      ],
      "metadata": {
        "colab": {
          "base_uri": "https://localhost:8080/"
        },
        "id": "i9fzpuRV41NC",
        "outputId": "6f851f75-8345-4785-b052-e5aea55ba690"
      },
      "execution_count": null,
      "outputs": [
        {
          "output_type": "stream",
          "name": "stdout",
          "text": [
            "Enter a year= 2003\n",
            "Entered year is not a leap year\n"
          ]
        }
      ]
    },
    {
      "cell_type": "code",
      "source": [
        "#4.Write a python program to check the prime number\n",
        "num = int(input(\"Enter a number= \"))\n",
        "if num > 1:\n",
        "    for i in range(2, int(num/2)+1):\n",
        "         if (num % i) == 0:\n",
        "            print(num, \"is not a prime number\")\n",
        "            break\n",
        "    else:\n",
        "        print(num, \"is a prime number\")\n",
        "else:\n",
        "    print(num, \"is not a prime number\")"
      ],
      "metadata": {
        "colab": {
          "base_uri": "https://localhost:8080/"
        },
        "id": "sSHTcSgF5SLw",
        "outputId": "8fbc89c4-a1d8-41ea-b03c-718df4d91259"
      },
      "execution_count": null,
      "outputs": [
        {
          "output_type": "stream",
          "name": "stdout",
          "text": [
            "Enter a number= 15\n",
            "15 is not a prime number\n"
          ]
        }
      ]
    },
    {
      "cell_type": "code",
      "source": [
        "#5.Write a python program to swap two vairables without temp variable"
      ],
      "metadata": {
        "id": "sbQ48jkIdmUL"
      },
      "execution_count": null,
      "outputs": []
    },
    {
      "cell_type": "code",
      "source": [
        "#SECTION D\n",
        "#1.Write a python program to find the factorial of a number\n",
        "num=int(input(\"Enter a number= \"))\n",
        "factorial = 1\n",
        "if num < 0:\n",
        "  print(\"Factorial doesn't exist for negative numbers\")\n",
        "elif num==0:\n",
        "  print(\"Factorial for 0 is 1\")\n",
        "else:\n",
        "  for i in range(1, num+1):\n",
        "    factorial = factorial*i\n",
        "  print(\"The factorial of\",num,\"is\",factorial)"
      ],
      "metadata": {
        "colab": {
          "base_uri": "https://localhost:8080/"
        },
        "id": "kKQGkX7vdxOy",
        "outputId": "c3945c88-9887-46b9-d6ea-50f7e3415ddb"
      },
      "execution_count": null,
      "outputs": [
        {
          "output_type": "stream",
          "name": "stdout",
          "text": [
            "Enter a number= 5\n",
            "The factorial of 5 is 120\n"
          ]
        }
      ]
    },
    {
      "cell_type": "code",
      "source": [
        "#2.Write a python program to display the multiplication table"
      ],
      "metadata": {
        "id": "FB1WNx0Yh5uS"
      },
      "execution_count": null,
      "outputs": []
    },
    {
      "cell_type": "code",
      "source": [
        "#3.Write a python program to print thr fibonacci sequence\n",
        "nterms = int(input(\"Enter the number of terms= \"))\n",
        "n1=0\n",
        "n2=1\n",
        "count = 0\n",
        "if nterms <= 0:\n",
        "   print(\"Please enter a positive integer\")\n",
        "elif nterms == 1:\n",
        "   print(\"Fibonacci sequence upto\",nterms,\":\")\n",
        "   print(n1)\n",
        "else:\n",
        "   print(\"Fibonacci sequence:\")\n",
        "   while count < nterms:\n",
        "       print(n1)\n",
        "       nth = n1 + n2\n",
        "       n1 = n2\n",
        "       n2 = nth\n",
        "       count += 1"
      ],
      "metadata": {
        "colab": {
          "base_uri": "https://localhost:8080/"
        },
        "id": "DGjO3F9GiD_3",
        "outputId": "e8914bce-dbb0-43f6-8dd1-70d6d4df6205"
      },
      "execution_count": null,
      "outputs": [
        {
          "output_type": "stream",
          "name": "stdout",
          "text": [
            "Enter the number of terms= 10\n",
            "Fibonacci sequence:\n",
            "0\n",
            "1\n",
            "1\n",
            "2\n",
            "3\n",
            "5\n",
            "8\n",
            "13\n",
            "21\n",
            "34\n"
          ]
        }
      ]
    },
    {
      "cell_type": "code",
      "source": [
        "#SECTION F\n",
        "#1. Write a python program to find sum of elements in list\n",
        "list1 = [11, 5, 17, 18, 23]\n",
        "total = sum(list1)\n",
        "print(\"Sum of all elements in given list: \", total)"
      ],
      "metadata": {
        "id": "jQ-QLMqR2xN6",
        "colab": {
          "base_uri": "https://localhost:8080/"
        },
        "outputId": "0b8b7dcb-5e0c-4e1c-bd86-4601f85ed029"
      },
      "execution_count": null,
      "outputs": [
        {
          "output_type": "stream",
          "name": "stdout",
          "text": [
            "Sum of all elements in given list:  74\n"
          ]
        }
      ]
    },
    {
      "cell_type": "code",
      "source": [
        "#3.Write a python program to find smallest number in a list\n",
        "list1= [1,2,3]\n",
        "print(min(list1))"
      ],
      "metadata": {
        "colab": {
          "base_uri": "https://localhost:8080/"
        },
        "id": "aL6_UrPElD8n",
        "outputId": "60c1d5e1-6850-4924-faba-080ac6bf442a"
      },
      "execution_count": 2,
      "outputs": [
        {
          "output_type": "stream",
          "name": "stdout",
          "text": [
            "1\n"
          ]
        }
      ]
    },
    {
      "cell_type": "code",
      "source": [
        "#4.Write a python program to find biggest number in a list\n",
        "list1=[1,2,3]\n",
        "print(max(list1))"
      ],
      "metadata": {
        "colab": {
          "base_uri": "https://localhost:8080/"
        },
        "id": "_cD9dU10mBL_",
        "outputId": "7b4a0bb6-d469-42b2-80a3-4b1676eeee1a"
      },
      "execution_count": 3,
      "outputs": [
        {
          "output_type": "stream",
          "name": "stdout",
          "text": [
            "3\n"
          ]
        }
      ]
    },
    {
      "cell_type": "code",
      "source": [
        "#3.Write a python program to find second largest number in a list"
      ],
      "metadata": {
        "id": "OS0KEkdkmiZg"
      },
      "execution_count": null,
      "outputs": []
    }
  ]
}