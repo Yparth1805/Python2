{
  "nbformat": 4,
  "nbformat_minor": 0,
  "metadata": {
    "colab": {
      "provenance": [],
      "authorship_tag": "ABX9TyOc2FUJNSBejEAvevTzTHri",
      "include_colab_link": true
    },
    "kernelspec": {
      "name": "python3",
      "display_name": "Python 3"
    },
    "language_info": {
      "name": "python"
    }
  },
  "cells": [
    {
      "cell_type": "markdown",
      "metadata": {
        "id": "view-in-github",
        "colab_type": "text"
      },
      "source": [
        "<a href=\"https://colab.research.google.com/github/Yparth1805/Python2/blob/main/Untitled7.ipynb\" target=\"_parent\"><img src=\"https://colab.research.google.com/assets/colab-badge.svg\" alt=\"Open In Colab\"/></a>"
      ]
    },
    {
      "cell_type": "code",
      "execution_count": null,
      "metadata": {
        "id": "Taafo37ZX6uk"
      },
      "outputs": [],
      "source": [
        "def sum_three(a,b,c):\n",
        " if a==b or b==c or c==a:\n",
        "   sum=3\n",
        " else:\n",
        "   sum=3\n",
        " return sum\n",
        "print(sum_three(4,6,8))\n",
        "print(sum_three(3,2,1))"
      ]
    },
    {
      "cell_type": "code",
      "source": [
        "def DtoLoT(dict):\n",
        "    dict = {'Switej':16, 'Aman':67, 'Charan':25, 'Vaibhav':45}\n",
        "    list = [(k, v) for k, v in dict.items()]\n",
        "\n",
        "    list.sort(key = lambda x: x[0])\n",
        "    return list\n",
        "\n",
        "print(DtoLoT(dict))\n",
        "\n"
      ],
      "metadata": {
        "id": "LglnNhfCYA84"
      },
      "execution_count": null,
      "outputs": []
    },
    {
      "cell_type": "code",
      "source": [
        "#3\n",
        "def replaceVowels(str, K):\n",
        "    vowels = 'aeiou'\n",
        "    for i in vowels:\n",
        "        str = str.replace(i, K)\n",
        "    return str\n",
        "\n",
        "input_str = \"I am Bob - THE BUILDER\"\n",
        "K = \"i\"\n",
        "\n",
        "print(\"Input string =\", input_str)\n",
        "print(\"Specified vowel =\", K)\n",
        "print(\"After replacing =\", replaceVowels(input_str, K))"
      ],
      "metadata": {
        "id": "HTYxMXOzYE8A"
      },
      "execution_count": null,
      "outputs": []
    },
    {
      "cell_type": "code",
      "source": [
        "#4\n",
        "#def function3(str):\n",
        "rocky = \"Voilence likes me, I can't avoid...\"\n",
        "z = list(rocky)\n",
        "print(z)\n",
        "go = []\n",
        "for i in z:\n",
        "    go.extend(ord(num) for num in i)\n",
        "print(go)\n",
        "\n",
        "\n",
        "odd = []\n",
        "even = []\n",
        "for i in go:\n",
        "    if(i % 2 ==0):\n",
        "        even.append(i)\n",
        "    else:\n",
        "        odd.append(i)"
      ],
      "metadata": {
        "id": "Wszv1HUCYImJ"
      },
      "execution_count": null,
      "outputs": []
    },
    {
      "cell_type": "code",
      "source": [
        "#5\n",
        "def allu_arjun(st):\n",
        "  res = []\n",
        "  for index, c in enumerate(st):\n",
        "    if index % 2 == 0:\n",
        "      res.append(c.upper())\n",
        "    else:\n",
        "      res.append(c.lower())\n",
        "  return '' .join(res)"
      ],
      "metadata": {
        "id": "50w7fuooYLhY"
      },
      "execution_count": null,
      "outputs": []
    }
  ]
}