{
  "nbformat": 4,
  "nbformat_minor": 0,
  "metadata": {
    "colab": {
      "provenance": [],
      "authorship_tag": "ABX9TyME4xFltt5fYxdDzezhr54U",
      "include_colab_link": true
    },
    "kernelspec": {
      "name": "python3",
      "display_name": "Python 3"
    },
    "language_info": {
      "name": "python"
    }
  },
  "cells": [
    {
      "cell_type": "markdown",
      "metadata": {
        "id": "view-in-github",
        "colab_type": "text"
      },
      "source": [
        "<a href=\"https://colab.research.google.com/github/Yparth1805/Python2/blob/main/Untitled9.ipynb\" target=\"_parent\"><img src=\"https://colab.research.google.com/assets/colab-badge.svg\" alt=\"Open In Colab\"/></a>"
      ]
    },
    {
      "cell_type": "code",
      "execution_count": null,
      "metadata": {
        "colab": {
          "base_uri": "https://localhost:8080/"
        },
        "id": "nWDe_A5EIiy8",
        "outputId": "99c7d8c8-777f-4af0-ba3f-a1ccdb56457a"
      },
      "outputs": [
        {
          "output_type": "stream",
          "name": "stdout",
          "text": [
            "False\n"
          ]
        }
      ],
      "source": [
        "#Create a function that returns True if a given inequality expression is correct and False otherwise.\n",
        "def check(s):\n",
        "    abc=eval(s)\n",
        "    if abc:\n",
        "        return True\n",
        "    else:\n",
        "      return False\n",
        "\n",
        "\n",
        "print(check(\"9 < 7 < 0 \"))"
      ]
    },
    {
      "cell_type": "code",
      "source": [
        "#Create a function that takes three arguments a, b, c and returns the sum of the numbers that are evenly divided by c from the range a, b inclusive.\n",
        "def sumdivisibles(A, B, C):\n",
        "    sum = 0\n",
        "\n",
        "    for i in range(A, B + 1):\n",
        "  \n",
        "          if (i % C == 0):\n",
        "            sum += i\n",
        " \n",
        "    return sum\n",
        "\n",
        "     \n",
        "A = int(input(\"Enter value of A =\"))\n",
        "B = int(input(\"Enter value of B =\"))\n",
        "C = int(input(\"Enter value of C =\"))\n",
        " \n",
        "print(sumdivisibles(A, B, C))"
      ],
      "metadata": {
        "colab": {
          "base_uri": "https://localhost:8080/"
        },
        "id": "a9r-ACpJIm1d",
        "outputId": "75dda2d8-5a4a-4b43-efbb-6a1b7ad8bc53"
      },
      "execution_count": null,
      "outputs": [
        {
          "output_type": "stream",
          "name": "stdout",
          "text": [
            "Enter value of A =5\n",
            "Enter value of B =20\n",
            "Enter value of C =2\n",
            "104\n"
          ]
        }
      ]
    },
    {
      "cell_type": "code",
      "source": [
        "#Create a function that replaces all the vowels in a string with a specified character.\n",
        "def replacevowels(str, n):\n",
        "    vowels = 'AaEeIiOoUu'\n",
        "    for i in vowels:\n",
        "      str = str.replace(i, n)\n",
        "    return str\n",
        "\n",
        "input = \"America is a beautiful country\"\n",
        "n = \"#\"\n",
        "print(\"Given String:\", input)\n",
        "print(\"Given Specified Character:\", n)\n",
        "print(\"After replacing vowels with the specified character:\", replacevowels(input, n))"
      ],
      "metadata": {
        "colab": {
          "base_uri": "https://localhost:8080/"
        },
        "id": "-EjVHJb6IpxR",
        "outputId": "7e721b45-4c0e-49e8-fd11-aef31233c7d4"
      },
      "execution_count": 1,
      "outputs": [
        {
          "output_type": "stream",
          "name": "stdout",
          "text": [
            "Given String: America is a beautiful country\n",
            "Given Specified Character: #\n",
            "After replacing vowels with the specified character: #m#r#c# #s # b###t#f#l c##ntry\n"
          ]
        }
      ]
    },
    {
      "cell_type": "code",
      "source": [
        "#Write a function that calculates the factorial of a number recursively.\n",
        "def factorial(n): \n",
        "    if (n==1 or n==0): \n",
        "        return 1\n",
        "    else:     \n",
        "        return (n * factorial(n - 1)) \n",
        "  \n",
        "num = 8\n",
        "print(\"number : \",num)\n",
        "print(\"Factorial : \",factorial(num))"
      ],
      "metadata": {
        "id": "eUT1AjhwIvBb",
        "colab": {
          "base_uri": "https://localhost:8080/"
        },
        "outputId": "5aea8ff8-4a67-48bb-bec9-538ff21729ed"
      },
      "execution_count": null,
      "outputs": [
        {
          "output_type": "stream",
          "name": "stdout",
          "text": [
            "number :  8\n",
            "Factorial :  40320\n"
          ]
        }
      ]
    },
    {
      "cell_type": "code",
      "source": [
        "#Create a function that computes the hamming distance between two strings.\n",
        "def hammingDist(str1, str2):\n",
        "    i = 0\n",
        "    count = 0\n",
        " \n",
        "    while(i < len(str1)):\n",
        "        if(str1[i] != str2[i]):\n",
        "            count += 1\n",
        "        i += 1\n",
        "    return count\n",
        " \n",
        "str1 = \"crown\"\n",
        "str2 = \"crowd\"\n",
        "\n",
        "print(hammingDist(str1, str2))"
      ],
      "metadata": {
        "id": "xv-wLJQtIzwr",
        "colab": {
          "base_uri": "https://localhost:8080/"
        },
        "outputId": "8062b9eb-3824-4e47-c24d-1860cc8223e9"
      },
      "execution_count": 5,
      "outputs": [
        {
          "output_type": "stream",
          "name": "stdout",
          "text": [
            "1\n"
          ]
        }
      ]
    },
    {
      "cell_type": "code",
      "source": [
        "#Create a function that takes a list of non-negative integers and strings and return a new list without the strings.\n",
        "def filter_list(l):  \n",
        "    output = []\n",
        "    for i in l:  \n",
        "        if type(i) != str:  \n",
        "            output.append(i)  \n",
        "    return output\n",
        "\n",
        "print(filter_list(['p',12,'i',213,'dss']))"
      ],
      "metadata": {
        "id": "dXf7mo3zI0oq",
        "colab": {
          "base_uri": "https://localhost:8080/"
        },
        "outputId": "fe533bee-1723-4e73-a80d-40dc7a985279"
      },
      "execution_count": 9,
      "outputs": [
        {
          "output_type": "stream",
          "name": "stdout",
          "text": [
            "[12, 213]\n"
          ]
        }
      ]
    },
    {
      "cell_type": "code",
      "source": [
        "#The \"Reverser\" takes a string as input and returns that string in reverse order, with the opposite case.\n",
        "def reverse(str):\n",
        "    str = str[::-1]\n",
        "    return str.swapcase()\n",
        "\n",
        "reverse('Alegria')"
      ],
      "metadata": {
        "id": "3pGtG78iI4Vq",
        "colab": {
          "base_uri": "https://localhost:8080/",
          "height": 36
        },
        "outputId": "d454d2e6-f935-4343-8b97-63d8ac797c8e"
      },
      "execution_count": 8,
      "outputs": [
        {
          "output_type": "execute_result",
          "data": {
            "text/plain": [
              "'AIRGELa'"
            ],
            "application/vnd.google.colaboratory.intrinsic+json": {
              "type": "string"
            }
          },
          "metadata": {},
          "execution_count": 8
        }
      ]
    },
    {
      "cell_type": "code",
      "source": [
        "#Write a function that moves all elements of one type to the end of the list.\n",
        "def move_to_end(array, toMove):\n",
        "    i = 0\n",
        "    s = len(array) - 1\n",
        "    while (i < s):\n",
        "        while (i < s and array[s] == toMove):\n",
        "            s-=1\n",
        "  \n",
        "        if (array[i] == toMove):\n",
        "            array[i], array[s] = array[s] , array[i]\n",
        "        i += 1\n",
        "    return array\n",
        "\n",
        "arr = ['a', 'a', 'a', 'b']\n",
        "k = 'a'\n",
        "ans = move_to_end(arr, k)\n",
        "for i in range(len(arr)):\n",
        "    print(ans[i] ,end= \" \")"
      ],
      "metadata": {
        "id": "QbDsHLAlI-us"
      },
      "execution_count": null,
      "outputs": []
    },
    {
      "cell_type": "code",
      "source": [
        "#Create a function that takes a string and returns a string in which each character is repeated once.\n",
        "def double(str):\n",
        "    return ''.join([c+c for c in str])\n",
        "\n",
        "print(double('String'))"
      ],
      "metadata": {
        "id": "-vl3hk63JBd0"
      },
      "execution_count": null,
      "outputs": []
    },
    {
      "cell_type": "code",
      "source": [
        "#Create a function that reverses a boolean value and returns the string \"boolean expected\" if another variable type is given.\n",
        "def reverse(arg=None):\n",
        "    return not arg if type(arg) == bool else \"boolean expected\"\n",
        "\n",
        "print(reverse(True))\n",
        "print(reverse(False))\n",
        "print(reverse(0))\n",
        "print(reverse(None))"
      ],
      "metadata": {
        "id": "O_2FBjHoJDt_"
      },
      "execution_count": null,
      "outputs": []
    },
    {
      "cell_type": "code",
      "source": [
        "#Create a function that returns the thickness (in meters) of a piece of paper after folding it n number of times. The paper starts off with a thickness of 0.5mm.\n",
        "def layers(n):\n",
        "    thickness = 0.5\n",
        "    for _ in range(n):\n",
        "        thickness *= 2\n",
        "    return str(thickness / 1000)+'m' # for meters\n",
        "\n",
        "print(layers(1))\n",
        "print(layers(4))"
      ],
      "metadata": {
        "id": "2bxXuqyAJFl7"
      },
      "execution_count": null,
      "outputs": []
    },
    {
      "cell_type": "code",
      "source": [
        "#Create a function that takes a single string as argument and returns an ordered list containing the indices of all capital letters in the string\n",
        "def index_of_cap(word):\n",
        "    indices = []\n",
        "    for i in range(len(word)):\n",
        "        if word[i].isupper():\n",
        "             indices.append(i)\n",
        "    return indices\n",
        "\n",
        "print(index_of_cap('Pratik'))\n",
        "print(index_of_cap('eDaBiT'))\n",
        "print(index_of_cap('eQuINoX'))"
      ],
      "metadata": {
        "id": "T-rSnPSFJID1"
      },
      "execution_count": null,
      "outputs": []
    },
    {
      "cell_type": "code",
      "source": [
        "#Using list comprehensions, create a function that finds all even numbers from 1 to the given number.\n",
        "def find_even_no(n):\n",
        "    even =[x for x in range(2,n+1) if x % 2 == 0]\n",
        "    return even\n",
        "\n",
        "n = int(input('Enter a number : '))\n",
        "find_even_no(n)"
      ],
      "metadata": {
        "id": "EFY1UdaTJKeZ"
      },
      "execution_count": null,
      "outputs": []
    },
    {
      "cell_type": "code",
      "source": [
        "#Create a function that takes a list of strings and integers, and filters out the list so that it returns a list of integers only\n",
        "def filter_list(lst):\n",
        "    intlst = []\n",
        "    for i in lst:\n",
        "        if type(i) == int:\n",
        "            intlst.append(i)\n",
        "    return intlst \n",
        "\n",
        "filter_list([1, 2, 3, 'a', 'b', 4])"
      ],
      "metadata": {
        "id": "R3kRQZ4sJM6D"
      },
      "execution_count": null,
      "outputs": []
    },
    {
      "cell_type": "code",
      "source": [
        "#Given a list of numbers, create a function which returns the list but with each element's index in the list added to itself.\n",
        "def add_index(lst):\n",
        "    ind = 0\n",
        "    index = []\n",
        "    for i in lst:\n",
        "        index.append(lst.index(i,ind) + i)\n",
        "        ind+=1\n",
        "    return index\n",
        "\n",
        "add_index([1, 2, 3, 4, 5])"
      ],
      "metadata": {
        "id": "DLVfLwBwJQbp"
      },
      "execution_count": null,
      "outputs": []
    },
    {
      "cell_type": "code",
      "source": [
        "#Create a function that takes the height and radius of a cone as arguments and returns the volume of the cone rounded to the nearest hundredth\n",
        "import math\n",
        "pi = math.pi\n",
        "def cone_volume(r, h):\n",
        "    return round((1 / 3) * pi * r * r * h)\n",
        "\n",
        "radius = float(input(\"Enter value of radius= \"))\n",
        "height = float(input(\"Enter value of height= \"))\n",
        "\n",
        "print( \"Volume Of Cone : \", cone_volume(radius, height) )"
      ],
      "metadata": {
        "id": "KcgvtrXRJSlS"
      },
      "execution_count": null,
      "outputs": []
    },
    {
      "cell_type": "code",
      "source": [
        "#Write a function that gives the number of dots with its corresponding triangle number of the sequence.\n",
        "def triangle(n):\n",
        "    return n*(n+1)*0.5\n",
        "\n",
        "n = int(input('Enter the trinalge number :'))\n",
        "print(\"The {}th triangle has {} dots \".format(n,int(triangle(n))))\n",
        "\n",
        "triangle(1)"
      ],
      "metadata": {
        "id": "iNL3IuUIJVyz"
      },
      "execution_count": null,
      "outputs": []
    },
    {
      "cell_type": "code",
      "source": [
        "#Create a function that takes a list of numbers between 1 and 10 (excluding one number) and returns the missing number.\n",
        "def missing_num(lst):\n",
        "    total = sum([x for x in range(11)])\n",
        "    sum_of_list = sum(lst)\n",
        "    return total - sum_of_list\n",
        "\n",
        "print(missing_num([1, 2, 3, 4, 6, 7, 8, 9, 10]))"
      ],
      "metadata": {
        "id": "BdNjTC4SJYRo"
      },
      "execution_count": null,
      "outputs": []
    }
  ]
}